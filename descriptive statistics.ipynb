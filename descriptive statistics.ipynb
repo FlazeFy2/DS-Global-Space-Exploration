{
 "cells": [
  {
   "cell_type": "code",
   "execution_count": 7,
   "id": "bba30404-3da0-45be-933b-e14f9d9b2a47",
   "metadata": {},
   "outputs": [
    {
     "name": "stdout",
     "output_type": "stream",
     "text": [
      "Max of Budget (In Billion $) : 49.97\n",
      "Min of Budget (In Billion $) : 0.53\n",
      "Range of Budget (In Billion $) : 49.44\n",
      "Mean of Budget (In Billion $) : 25.43\n",
      "Mode of Budget (In Billion $) : 11.86\n",
      "Variance of Budget (In Billion $) : 199.05\n",
      "Standard Deviance of Budget (In Billion $) : 14.11\n",
      "\n",
      "Max of Success Rate (%) : 100\n",
      "Min of Success Rate (%) : 50\n",
      "Range of Success Rate (%) : 50\n",
      "Mean of Success Rate (%) : 74.98\n",
      "Mode of Success Rate (%) : 60\n",
      "Variance of Success Rate (%) : 223.36\n",
      "Standard Deviance of Success Rate (%) : 14.95\n",
      "\n",
      "Max of Duration (In Days) : 365\n",
      "Min of Duration (In Days) : 1\n",
      "Range of Duration (In Days) : 364\n",
      "Mean of Duration (In Days) : 181.48\n",
      "Mode of Duration (In Days) : 307\n",
      "Variance of Duration (In Days) : 11021.6\n",
      "Standard Deviance of Duration (In Days) : 104.98\n",
      "\n"
     ]
    }
   ],
   "source": [
    "import pandas as pd\n",
    "import statistics\n",
    "import numpy as np\n",
    "\n",
    "# Declaration\n",
    "# Descriptive Statistic : Max, Min, Range, Mean, Mode, Var, Std for numeric Column\n",
    "data = pd.read_csv(\"Global_Space_Exploration_Dataset.csv\")\n",
    "\n",
    "target_col = ['Budget (in Billion $)','Success Rate (%)','Duration (in Days)']\n",
    "\n",
    "for dt in target_col:\n",
    "    # Convert to int\n",
    "    data[dt] = pd.to_numeric(data[dt], errors='coerce')\n",
    "    \n",
    "    # Remove NaN\n",
    "    data = data.dropna(subset=[dt])\n",
    "\n",
    "    max_val = data[dt].max()\n",
    "    min_val = data[dt].min()\n",
    "    range_val = max_val - min_val\n",
    "    mean = round(data[dt].mean(),2)\n",
    "    mode = round(statistics.mode(data[dt]),2)\n",
    "    var = round(np.nanvar(data[dt],ddof=1),2)\n",
    "    std = round(var ** 0.5,2)\n",
    "\n",
    "    print(f\"Max of {dt.title()} : {max_val}\")\n",
    "    print(f\"Min of {dt.title()} : {min_val}\")\n",
    "    print(f\"Range of {dt.title()} : {range_val}\")\n",
    "    print(f\"Mean of {dt.title()} : {mean}\")\n",
    "    print(f\"Mode of {dt.title()} : {mode}\")\n",
    "    print(f\"Variance of {dt.title()} : {var}\")\n",
    "    print(f\"Standard Deviance of {dt.title()} : {std}\\n\")"
   ]
  },
  {
   "cell_type": "code",
   "execution_count": null,
   "id": "2163e190-6e3a-48b0-88e9-dce80d062546",
   "metadata": {},
   "outputs": [],
   "source": []
  }
 ],
 "metadata": {
  "kernelspec": {
   "display_name": "Python [conda env:base] *",
   "language": "python",
   "name": "conda-base-py"
  },
  "language_info": {
   "codemirror_mode": {
    "name": "ipython",
    "version": 3
   },
   "file_extension": ".py",
   "mimetype": "text/x-python",
   "name": "python",
   "nbconvert_exporter": "python",
   "pygments_lexer": "ipython3",
   "version": "3.12.7"
  }
 },
 "nbformat": 4,
 "nbformat_minor": 5
}
